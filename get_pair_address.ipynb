{
  "nbformat": 4,
  "nbformat_minor": 0,
  "metadata": {
    "colab": {
      "provenance": [],
      "authorship_tag": "ABX9TyOPtp2y7qmIRwmLV5oZYZjy",
      "include_colab_link": true
    },
    "kernelspec": {
      "name": "python3",
      "display_name": "Python 3"
    },
    "language_info": {
      "name": "python"
    }
  },
  "cells": [
    {
      "cell_type": "markdown",
      "metadata": {
        "id": "view-in-github",
        "colab_type": "text"
      },
      "source": [
        "<a href=\"https://colab.research.google.com/github/harshit4311/dexscreener-get-token-pair-address/blob/main/get_pair_address.ipynb\" target=\"_parent\"><img src=\"https://colab.research.google.com/assets/colab-badge.svg\" alt=\"Open In Colab\"/></a>"
      ]
    },
    {
      "cell_type": "code",
      "source": [
        "print('hello')"
      ],
      "metadata": {
        "colab": {
          "base_uri": "https://localhost:8080/"
        },
        "id": "cpyNnNJQ3vDH",
        "outputId": "8e4536e4-6139-477e-a96a-d452d4e8c94f"
      },
      "execution_count": 24,
      "outputs": [
        {
          "output_type": "stream",
          "name": "stdout",
          "text": [
            "hello\n"
          ]
        }
      ]
    },
    {
      "cell_type": "code",
      "execution_count": 25,
      "metadata": {
        "id": "hpVcCiH-3GDj"
      },
      "outputs": [],
      "source": [
        "import requests"
      ]
    },
    {
      "cell_type": "code",
      "source": [
        "def get_pair_addresses(token_address: str,\n",
        "                       chain: str = \"ethereum\") -> list[str]:\n",
        "    \"\"\"Return all LP pair addresses that contain the token.\"\"\"\n",
        "    url = f\"https://api.dexscreener.com/tokens/v1/{chain}/{token_address}\"\n",
        "    resp = requests.get(url, timeout=10)\n",
        "    resp.raise_for_status()          # raise if 4xx/5xx\n",
        "    data = resp.json()               # ← list of pool objects\n",
        "    return [pool[\"pairAddress\"] for pool in data]\n",
        ""
      ],
      "metadata": {
        "id": "JhlXZUe55u8u"
      },
      "execution_count": 26,
      "outputs": []
    },
    {
      "cell_type": "code",
      "source": [
        "# 1. RATO\n",
        "\n",
        "if __name__ == \"__main__\":\n",
        "    token = \"0xf816507e690f5aa4e29d164885eb5fa7a5627860\"\n",
        "    pairs = get_pair_addresses(token)\n",
        "    print(\"\\n\".join(pairs))\n"
      ],
      "metadata": {
        "colab": {
          "base_uri": "https://localhost:8080/"
        },
        "id": "rRwU0LmM3O7X",
        "outputId": "a4d7abad-4324-4948-eecc-e6f3cf272fd1"
      },
      "execution_count": 27,
      "outputs": [
        {
          "output_type": "stream",
          "name": "stdout",
          "text": [
            "0x8D02988296949cd054623802c1115973A9AFE307\n"
          ]
        }
      ]
    },
    {
      "cell_type": "code",
      "source": [
        "# 2. SXT\n",
        "\n",
        "if __name__ == \"__main__\":\n",
        "    token = \"0xe6bfd33f52d82ccb5b37e16d3dd81f9ffdabb195\"\n",
        "    pairs = get_pair_addresses(token)\n",
        "    print(\"\\n\".join(pairs))\n"
      ],
      "metadata": {
        "id": "9-mzdeoe3ZR6",
        "colab": {
          "base_uri": "https://localhost:8080/"
        },
        "outputId": "1bb3a485-0ddb-49e9-b05a-b2b6a905c5cf"
      },
      "execution_count": 28,
      "outputs": [
        {
          "output_type": "stream",
          "name": "stdout",
          "text": [
            "0x20c42D3513e9E7fafFf82173AA5327f02D5163e3\n"
          ]
        }
      ]
    },
    {
      "cell_type": "code",
      "source": [
        "# 3. PFVS\n",
        "\n",
        "if __name__ == \"__main__\":\n",
        "    token = \"0x3157874a7508fcf972379d24590c6806522b784f\"\n",
        "    pairs = get_pair_addresses(token)\n",
        "    print(\"\\n\".join(pairs))"
      ],
      "metadata": {
        "colab": {
          "base_uri": "https://localhost:8080/"
        },
        "id": "RlZ_nB0G52Sd",
        "outputId": "151b22b5-86cb-48d6-9dc9-be1ad3a92115"
      },
      "execution_count": 29,
      "outputs": [
        {
          "output_type": "stream",
          "name": "stdout",
          "text": [
            "0x251805ADB28090F84C7cdb7d9aA04f2Ff1EAAC00\n"
          ]
        }
      ]
    },
    {
      "cell_type": "code",
      "source": [
        "# 4. gUP\n",
        "\n",
        "if __name__ == \"__main__\":\n",
        "    token = \"0x1b887c8621ed207d831b846951a80474fb17a31d\"\n",
        "    pairs = get_pair_addresses(token)\n",
        "    print(\"\\n\".join(pairs))"
      ],
      "metadata": {
        "colab": {
          "base_uri": "https://localhost:8080/"
        },
        "id": "VJWPLwFA6KYR",
        "outputId": "a431b018-37f5-45ba-a9e2-9abeeabbb458"
      },
      "execution_count": 30,
      "outputs": [
        {
          "output_type": "stream",
          "name": "stdout",
          "text": [
            "0xCA7B6A594700cD5a48D85c865050003eCF47C056\n"
          ]
        }
      ]
    },
    {
      "cell_type": "code",
      "source": [],
      "metadata": {
        "id": "kdr9-8Re6YP5"
      },
      "execution_count": 30,
      "outputs": []
    }
  ]
}