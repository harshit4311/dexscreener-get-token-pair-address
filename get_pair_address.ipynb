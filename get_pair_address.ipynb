{
  "nbformat": 4,
  "nbformat_minor": 0,
  "metadata": {
    "colab": {
      "provenance": [],
      "authorship_tag": "ABX9TyMC7iyn8sdOQxQPIWVSQNFn",
      "include_colab_link": true
    },
    "kernelspec": {
      "name": "python3",
      "display_name": "Python 3"
    },
    "language_info": {
      "name": "python"
    }
  },
  "cells": [
    {
      "cell_type": "markdown",
      "metadata": {
        "id": "view-in-github",
        "colab_type": "text"
      },
      "source": [
        "<a href=\"https://colab.research.google.com/github/harshit4311/dexscreener-get-token-pair-address/blob/main/get_pair_address.ipynb\" target=\"_parent\"><img src=\"https://colab.research.google.com/assets/colab-badge.svg\" alt=\"Open In Colab\"/></a>"
      ]
    },
    {
      "cell_type": "code",
      "source": [
        "print('hello')"
      ],
      "metadata": {
        "colab": {
          "base_uri": "https://localhost:8080/"
        },
        "id": "cpyNnNJQ3vDH",
        "outputId": "1bf3dac7-7c37-4088-847d-922e6768ea2b"
      },
      "execution_count": 9,
      "outputs": [
        {
          "output_type": "stream",
          "name": "stdout",
          "text": [
            "hello\n"
          ]
        }
      ]
    },
    {
      "cell_type": "code",
      "execution_count": 11,
      "metadata": {
        "id": "hpVcCiH-3GDj"
      },
      "outputs": [],
      "source": [
        "import requests"
      ]
    },
    {
      "cell_type": "code",
      "source": [
        "def get_pair_addresses(token_address: str,\n",
        "                       chain: str = \"ethereum\") -> list[str]:\n",
        "    \"\"\"Return all LP pair addresses that contain the token.\"\"\"\n",
        "    url = f\"https://api.dexscreener.com/tokens/v1/{chain}/{token_address}\"\n",
        "    resp = requests.get(url, timeout=10)\n",
        "    resp.raise_for_status()          # raise if 4xx/5xx\n",
        "    data = resp.json()               # ← list of pool objects\n",
        "    return [pool[\"pairAddress\"] for pool in data]\n",
        "\n",
        "if __name__ == \"__main__\":\n",
        "    token = \"0xf816507e690f5aa4e29d164885eb5fa7a5627860\"   # RATO example\n",
        "    pairs = get_pair_addresses(token)\n",
        "    print(\"\\n\".join(pairs))\n"
      ],
      "metadata": {
        "colab": {
          "base_uri": "https://localhost:8080/"
        },
        "id": "rRwU0LmM3O7X",
        "outputId": "38fd4c6d-e0cf-41b4-dfa0-8b85dc534ea2"
      },
      "execution_count": 12,
      "outputs": [
        {
          "output_type": "stream",
          "name": "stdout",
          "text": [
            "0x8D02988296949cd054623802c1115973A9AFE307\n"
          ]
        }
      ]
    },
    {
      "cell_type": "code",
      "source": [],
      "metadata": {
        "id": "9-mzdeoe3ZR6"
      },
      "execution_count": null,
      "outputs": []
    }
  ]
}